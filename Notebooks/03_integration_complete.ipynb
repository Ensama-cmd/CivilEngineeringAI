{
  "nbformat": 4,
  "nbformat_minor": 0,
  "metadata": {
    "colab": {
      "provenance": [],
      "authorship_tag": "ABX9TyPEWwSjSlcYMHLwAlDCorUL",
      "include_colab_link": true
    },
    "kernelspec": {
      "name": "python3",
      "display_name": "Python 3"
    },
    "language_info": {
      "name": "python"
    }
  },
  "cells": [
    {
      "cell_type": "markdown",
      "metadata": {
        "id": "view-in-github",
        "colab_type": "text"
      },
      "source": [
        "<a href=\"https://colab.research.google.com/github/Ensama-cmd/CivilEngineeringAI/blob/main/Notebooks/03_integration_complete.ipynb\" target=\"_parent\"><img src=\"https://colab.research.google.com/assets/colab-badge.svg\" alt=\"Open In Colab\"/></a>"
      ]
    },
    {
      "cell_type": "code",
      "execution_count": 1,
      "metadata": {
        "colab": {
          "base_uri": "https://localhost:8080/",
          "height": 872
        },
        "id": "1HAKB5M4JjP2",
        "outputId": "da3892a5-f0a3-4668-953b-5013ab413097"
      },
      "outputs": [
        {
          "output_type": "stream",
          "name": "stdout",
          "text": [
            "Collecting ezdxf\n",
            "  Downloading ezdxf-1.4.2-cp312-cp312-manylinux_2_17_x86_64.manylinux2014_x86_64.whl.metadata (9.8 kB)\n",
            "Requirement already satisfied: pyparsing>=2.0.1 in /usr/local/lib/python3.12/dist-packages (from ezdxf) (3.2.3)\n",
            "Requirement already satisfied: typing_extensions>=4.6.0 in /usr/local/lib/python3.12/dist-packages (from ezdxf) (4.14.1)\n",
            "Requirement already satisfied: numpy in /usr/local/lib/python3.12/dist-packages (from ezdxf) (2.0.2)\n",
            "Requirement already satisfied: fonttools in /usr/local/lib/python3.12/dist-packages (from ezdxf) (4.59.1)\n",
            "Downloading ezdxf-1.4.2-cp312-cp312-manylinux_2_17_x86_64.manylinux2014_x86_64.whl (5.8 MB)\n",
            "\u001b[2K   \u001b[90m━━━━━━━━━━━━━━━━━━━━━━━━━━━━━━━━━━━━━━━━\u001b[0m \u001b[32m5.8/5.8 MB\u001b[0m \u001b[31m31.8 MB/s\u001b[0m eta \u001b[36m0:00:00\u001b[0m\n",
            "\u001b[?25hInstalling collected packages: ezdxf\n",
            "Successfully installed ezdxf-1.4.2\n"
          ]
        },
        {
          "output_type": "error",
          "ename": "ModuleNotFoundError",
          "evalue": "No module named 'plan_generator'",
          "traceback": [
            "\u001b[0;31m---------------------------------------------------------------------------\u001b[0m",
            "\u001b[0;31mModuleNotFoundError\u001b[0m                       Traceback (most recent call last)",
            "\u001b[0;32m/tmp/ipython-input-1190391400.py\u001b[0m in \u001b[0;36m<cell line: 0>\u001b[0;34m()\u001b[0m\n\u001b[1;32m      4\u001b[0m \u001b[0msys\u001b[0m\u001b[0;34m.\u001b[0m\u001b[0mpath\u001b[0m\u001b[0;34m.\u001b[0m\u001b[0mappend\u001b[0m\u001b[0;34m(\u001b[0m\u001b[0;34m'/content/CivilEngineeringAI/src'\u001b[0m\u001b[0;34m)\u001b[0m\u001b[0;34m\u001b[0m\u001b[0;34m\u001b[0m\u001b[0m\n\u001b[1;32m      5\u001b[0m \u001b[0;34m\u001b[0m\u001b[0m\n\u001b[0;32m----> 6\u001b[0;31m \u001b[0;32mfrom\u001b[0m \u001b[0mplan_generator\u001b[0m \u001b[0;32mimport\u001b[0m \u001b[0mPlanGenerator\u001b[0m\u001b[0;34m\u001b[0m\u001b[0;34m\u001b[0m\u001b[0m\n\u001b[0m\u001b[1;32m      7\u001b[0m \u001b[0;32mfrom\u001b[0m \u001b[0mtransformers\u001b[0m \u001b[0;32mimport\u001b[0m \u001b[0mpipeline\u001b[0m\u001b[0;34m\u001b[0m\u001b[0;34m\u001b[0m\u001b[0m\n\u001b[1;32m      8\u001b[0m \u001b[0;32mimport\u001b[0m \u001b[0mspacy\u001b[0m\u001b[0;34m\u001b[0m\u001b[0;34m\u001b[0m\u001b[0m\n",
            "\u001b[0;31mModuleNotFoundError\u001b[0m: No module named 'plan_generator'",
            "",
            "\u001b[0;31m---------------------------------------------------------------------------\u001b[0;32m\nNOTE: If your import is failing due to a missing package, you can\nmanually install dependencies using either !pip or !apt.\n\nTo view examples of installing some common dependencies, click the\n\"Open Examples\" button below.\n\u001b[0;31m---------------------------------------------------------------------------\u001b[0m\n"
          ],
          "errorDetails": {
            "actions": [
              {
                "action": "open_url",
                "actionText": "Open Examples",
                "url": "/notebooks/snippets/importing_libraries.ipynb"
              }
            ]
          }
        }
      ],
      "source": [
        "# Installation et import\n",
        "!pip install ezdxf\n",
        "import sys\n",
        "sys.path.append('/content/CivilEngineeringAI/src')\n",
        "\n",
        "from plan_generator import PlanGenerator\n",
        "from transformers import pipeline\n",
        "import spacy\n",
        "import re\n",
        "import json"
      ]
    },
    {
      "cell_type": "code",
      "source": [
        "# Chargement des modèles\n",
        "print(\"Chargement des modèles NLP...\")\n",
        "nlp_spacy = spacy.load(\"fr_core_news_sm\")"
      ],
      "metadata": {
        "id": "bCzhoXyMKPN5"
      },
      "execution_count": null,
      "outputs": []
    },
    {
      "cell_type": "code",
      "source": [
        "# Fonction d'extraction (simplifiée pour Colab)\n",
        "def extract_params(description):\n",
        "    params = {\n",
        "        \"longueur\": 10, # Valeurs par défaut\n",
        "        \"largeur\": 8,\n",
        "        \"epaisseur_mur\": 0.2\n",
        "    }\n",
        "\n",
        "    # Extraction de la surface pour déduire les dimensions\n",
        "    surface_match = re.search(r'(\\d+)\\s*m²', description)\n",
        "    if surface_match:\n",
        "        surface = int(surface_match.group(1))\n",
        "        # Ratio approximatif pour une maison\n",
        "        params[\"longueur\"] = round((surface * 1.2) ** 0.5, 1)\n",
        "        params[\"largeur\"] = round(surface / params[\"longueur\"], 1)\n",
        "\n",
        "    # Extraction de l'épaisseur des murs\n",
        "    mur_match = re.search(r'(\\d+)\\s*cm', description)\n",
        "    if mur_match:\n",
        "        params[\"epaisseur_mur\"] = int(mur_match.group(1)) / 100\n",
        "\n",
        "    return params"
      ],
      "metadata": {
        "id": "G2vxTLOSKUli"
      },
      "execution_count": null,
      "outputs": []
    },
    {
      "cell_type": "code",
      "source": [
        "# Pipeline complet\n",
        "def generate_plan_from_description(description, filename=\"output_plan.dxf\"):\n",
        "    print(f\"Traitement de la description: {description}\")\n",
        "\n",
        "    # Extraction des paramètres\n",
        "    params = extract_params(description)\n",
        "    print(f\"Paramètres extraits: {params}\")\n",
        "\n",
        "    # Génération du plan\n",
        "    generator = PlanGenerator()\n",
        "    plan = generator.generate_simple_rectangular_plan(\n",
        "        params[\"longueur\"],\n",
        "        params[\"largeur\"],\n",
        "        params[\"epaisseur_mur\"]\n",
        "    )\n",
        "\n",
        "    # Sauvegarde\n",
        "    generator.save_dxf(filename)\n",
        "\n",
        "    return plan, params"
      ],
      "metadata": {
        "id": "_JAnVghcKbfa"
      },
      "execution_count": 2,
      "outputs": []
    },
    {
      "cell_type": "code",
      "source": [
        "# Test\n",
        "description = \"Maison de 120m² avec murs de 20cm\"\n",
        "plan, params = generate_plan_from_description(description)"
      ],
      "metadata": {
        "colab": {
          "base_uri": "https://localhost:8080/",
          "height": 563
        },
        "id": "YK1f5LlJKjA2",
        "outputId": "46acad99-3c98-42fd-ed64-41895c88ba2c"
      },
      "execution_count": 3,
      "outputs": [
        {
          "output_type": "stream",
          "name": "stdout",
          "text": [
            "Traitement de la description: Maison de 120m² avec murs de 20cm\n"
          ]
        },
        {
          "output_type": "error",
          "ename": "NameError",
          "evalue": "name 'extract_params' is not defined",
          "traceback": [
            "\u001b[0;31m---------------------------------------------------------------------------\u001b[0m",
            "\u001b[0;31mNameError\u001b[0m                                 Traceback (most recent call last)",
            "\u001b[0;32m/tmp/ipython-input-914631136.py\u001b[0m in \u001b[0;36m<cell line: 0>\u001b[0;34m()\u001b[0m\n\u001b[1;32m      1\u001b[0m \u001b[0;31m# Test\u001b[0m\u001b[0;34m\u001b[0m\u001b[0;34m\u001b[0m\u001b[0m\n\u001b[1;32m      2\u001b[0m \u001b[0mdescription\u001b[0m \u001b[0;34m=\u001b[0m \u001b[0;34m\"Maison de 120m² avec murs de 20cm\"\u001b[0m\u001b[0;34m\u001b[0m\u001b[0;34m\u001b[0m\u001b[0m\n\u001b[0;32m----> 3\u001b[0;31m \u001b[0mplan\u001b[0m\u001b[0;34m,\u001b[0m \u001b[0mparams\u001b[0m \u001b[0;34m=\u001b[0m \u001b[0mgenerate_plan_from_description\u001b[0m\u001b[0;34m(\u001b[0m\u001b[0mdescription\u001b[0m\u001b[0;34m)\u001b[0m\u001b[0;34m\u001b[0m\u001b[0;34m\u001b[0m\u001b[0m\n\u001b[0m",
            "\u001b[0;32m/tmp/ipython-input-3914135660.py\u001b[0m in \u001b[0;36mgenerate_plan_from_description\u001b[0;34m(description, filename)\u001b[0m\n\u001b[1;32m      4\u001b[0m \u001b[0;34m\u001b[0m\u001b[0m\n\u001b[1;32m      5\u001b[0m     \u001b[0;31m# Extraction des paramètres\u001b[0m\u001b[0;34m\u001b[0m\u001b[0;34m\u001b[0m\u001b[0m\n\u001b[0;32m----> 6\u001b[0;31m     \u001b[0mparams\u001b[0m \u001b[0;34m=\u001b[0m \u001b[0mextract_params\u001b[0m\u001b[0;34m(\u001b[0m\u001b[0mdescription\u001b[0m\u001b[0;34m)\u001b[0m\u001b[0;34m\u001b[0m\u001b[0;34m\u001b[0m\u001b[0m\n\u001b[0m\u001b[1;32m      7\u001b[0m     \u001b[0mprint\u001b[0m\u001b[0;34m(\u001b[0m\u001b[0;34mf\"Paramètres extraits: {params}\"\u001b[0m\u001b[0;34m)\u001b[0m\u001b[0;34m\u001b[0m\u001b[0;34m\u001b[0m\u001b[0m\n\u001b[1;32m      8\u001b[0m \u001b[0;34m\u001b[0m\u001b[0m\n",
            "\u001b[0;31mNameError\u001b[0m: name 'extract_params' is not defined"
          ]
        }
      ]
    },
    {
      "cell_type": "code",
      "source": [
        "\n",
        "# Visualisation (optionnelle)\n",
        "try:\n",
        "    from google.colab import files\n",
        "    files.download(\"output_plan.dxf\")\n",
        "except:\n",
        "    print(\"Le fichier DXF a été généré. Téléchargez-le pour le visualiser.\")"
      ],
      "metadata": {
        "colab": {
          "base_uri": "https://localhost:8080/"
        },
        "id": "gMjrmKLIKsLE",
        "outputId": "ccf3d580-b995-476e-b720-3c3c4c233d8d"
      },
      "execution_count": 4,
      "outputs": [
        {
          "output_type": "stream",
          "name": "stdout",
          "text": [
            "Le fichier DXF a été généré. Téléchargez-le pour le visualiser.\n"
          ]
        }
      ]
    },
    {
      "cell_type": "code",
      "source": [
        "# Import des nouveaux modules\n",
        "from src.model3d_generator import Model3DGenerator\n",
        "from src.structural_calculator import StructuralCalculator"
      ],
      "metadata": {
        "id": "X07JeZufN5nR"
      },
      "execution_count": null,
      "outputs": []
    },
    {
      "cell_type": "code",
      "source": [
        "#  Génération du modèle 3D\n",
        "print(\"\\nGénération du modèle 3D...\")\n",
        "model3d_generator = Model3DGenerator()\n",
        "model3d = model3d_generator.generate_simple_building(params)\n",
        "model3d_generator.save_dxf(\"modele_3d.dxf\")\n",
        "print(\"Modèle 3D généré: modele_3d.dxf\")"
      ],
      "metadata": {
        "id": "Pn39vRH_OGZn"
      },
      "execution_count": null,
      "outputs": []
    },
    {
      "cell_type": "code",
      "source": [
        "# Calculs structurels\n",
        "print(\"\\nCalculs structurels en cours...\")\n",
        "structural_calculator = StructuralCalculator()\n",
        "structural_report = structural_calculator.generate_structural_report(params)\n",
        "\n",
        "print(\"Rapport structurel:\")\n",
        "import json\n",
        "print(json.dumps(structural_report, indent=2, ensure_ascii=False))"
      ],
      "metadata": {
        "id": "JzGnA76NOMM8"
      },
      "execution_count": null,
      "outputs": []
    },
    {
      "cell_type": "code",
      "source": [
        "\n",
        "# Génération de la documentation technique\n",
        "\n",
        "def generate_technical_documentation(description, params, structural_report):\n",
        "    \"\"\"Génère un rapport technique simple\"\"\"\n",
        "    from datetime import datetime\n",
        "    import json\n",
        "\n",
        "    doc = {\n",
        "        'projet': 'Dossier technique généré automatiquement',\n",
        "        'date': datetime.now().isoformat(),\n",
        "        'description_originale': description,\n",
        "        'paramètres_extraits': params,\n",
        "        'calculs_structurels': structural_report,\n",
        "        'notes': 'Document généré automatiquement - Validation par un ingénieur recommandée'\n",
        "    }\n",
        "\n",
        "    # Sauvegarde en JSON\n",
        "    with open('dossier_technique.json', 'w') as f:\n",
        "        json.dump(doc, f, indent=2, ensure_ascii=False)\n",
        "\n",
        "    # Conversion en PDF (simplifiée)\n",
        "    try:\n",
        "        from fpdf import FPDF\n",
        "        pdf = FPDF()\n",
        "        pdf.add_page()\n",
        "        pdf.set_font(\"Arial\", size=12)\n",
        "\n",
        "        # Titre\n",
        "        pdf.cell(200, 10, txt=\"DOSSIER TECHNIQUE\", ln=True, align='C')\n",
        "        pdf.ln(10)\n",
        "\n",
        "        # Contenu\n",
        "        pdf.multi_cell(0, 10, f\"Date: {doc['date']}\")\n",
        "        pdf.multi_cell(0, 10, f\"Description: {doc['description_originale']}\")\n",
        "        pdf.ln(5)\n",
        "\n",
        "        pdf.multi_cell(0, 10, \"Paramètres extraits:\")\n",
        "        for key, value in doc['paramètres_extraits'].items():\n",
        "            pdf.multi_cell(0, 10, f\" {key}: {value}\")\n",
        "\n",
        "        pdf.ln(5)\n",
        "        pdf.multi_cell(0, 10, \"Calculs structurels:\")\n",
        "        pdf.multi_cell(0, 10, json.dumps(doc['calculs_structurels'], indent=2, ensure_ascii=False))\n",
        "\n",
        "        pdf.output(\"dossier_technique.pdf\")\n",
        "        print(\"Dossier technique PDF généré: dossier_technique.pdf\")\n",
        "    except ImportError:\n",
        "        print(\"Installation de fpdf nécessaire pour la génération PDF: !pip install fpdf\")"
      ],
      "metadata": {
        "id": "mcvqyN3COVNX"
      },
      "execution_count": null,
      "outputs": []
    },
    {
      "cell_type": "code",
      "source": [
        "# Génération complète du dossier\n",
        "generate_technical_documentation(description_test, params, structural_report)"
      ],
      "metadata": {
        "colab": {
          "base_uri": "https://localhost:8080/",
          "height": 346
        },
        "id": "xl1X7L4iOvgd",
        "outputId": "cbb3943e-4dfd-45b3-f52a-487277220892"
      },
      "execution_count": 5,
      "outputs": [
        {
          "output_type": "error",
          "ename": "NameError",
          "evalue": "name 'generate_technical_documentation' is not defined",
          "traceback": [
            "\u001b[0;31m---------------------------------------------------------------------------\u001b[0m",
            "\u001b[0;31mNameError\u001b[0m                                 Traceback (most recent call last)",
            "\u001b[0;32m/tmp/ipython-input-2504700775.py\u001b[0m in \u001b[0;36m<cell line: 0>\u001b[0;34m()\u001b[0m\n\u001b[1;32m      1\u001b[0m \u001b[0;31m# Génération complète du dossier\u001b[0m\u001b[0;34m\u001b[0m\u001b[0;34m\u001b[0m\u001b[0m\n\u001b[0;32m----> 2\u001b[0;31m \u001b[0mgenerate_technical_documentation\u001b[0m\u001b[0;34m(\u001b[0m\u001b[0mdescription_test\u001b[0m\u001b[0;34m,\u001b[0m \u001b[0mparams\u001b[0m\u001b[0;34m,\u001b[0m \u001b[0mstructural_report\u001b[0m\u001b[0;34m)\u001b[0m\u001b[0;34m\u001b[0m\u001b[0;34m\u001b[0m\u001b[0m\n\u001b[0m",
            "\u001b[0;31mNameError\u001b[0m: name 'generate_technical_documentation' is not defined"
          ]
        }
      ]
    },
    {
      "cell_type": "code",
      "source": [
        "#  Téléchargement des fichiers\n",
        "try:\n",
        "    from google.colab import files\n",
        "    print(\"\\nTéléchargement des fichiers générés:\")\n",
        "    files.download(\"output_plan.dxf\")\n",
        "    files.download(\"modele_3d.dxf\")\n",
        "    files.download(\"dossier_technique.json\")\n",
        "\n",
        "    # Essayer de télécharger le PDF s'il existe\n",
        "    import os\n",
        "    if os.path.exists(\"dossier_technique.pdf\"):\n",
        "        files.download(\"dossier_technique.pdf\")\n",
        "except:\n",
        "    print(\"Téléchargement non disponible en dehors de Colab\")"
      ],
      "metadata": {
        "colab": {
          "base_uri": "https://localhost:8080/"
        },
        "id": "BvLFVtxAOzmU",
        "outputId": "31fe1f49-bc36-457e-98d2-43af2f540ac9"
      },
      "execution_count": 6,
      "outputs": [
        {
          "output_type": "stream",
          "name": "stdout",
          "text": [
            "\n",
            "Téléchargement des fichiers générés:\n",
            "Téléchargement non disponible en dehors de Colab\n"
          ]
        }
      ]
    }
  ]
}