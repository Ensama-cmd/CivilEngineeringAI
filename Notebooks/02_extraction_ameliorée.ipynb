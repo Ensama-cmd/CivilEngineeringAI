{
  "nbformat": 4,
  "nbformat_minor": 0,
  "metadata": {
    "colab": {
      "provenance": [],
      "authorship_tag": "ABX9TyPHZZoQzEVzgYLkORdthXHX",
      "include_colab_link": true
    },
    "kernelspec": {
      "name": "python3",
      "display_name": "Python 3"
    },
    "language_info": {
      "name": "python"
    }
  },
  "cells": [
    {
      "cell_type": "markdown",
      "metadata": {
        "id": "view-in-github",
        "colab_type": "text"
      },
      "source": [
        "<a href=\"https://colab.research.google.com/github/Ensama-cmd/CivilEngineeringAI/blob/main/Notebooks/02_extraction_amelior%C3%A9e.ipynb\" target=\"_parent\"><img src=\"https://colab.research.google.com/assets/colab-badge.svg\" alt=\"Open In Colab\"/></a>"
      ]
    },
    {
      "cell_type": "code",
      "execution_count": 1,
      "metadata": {
        "colab": {
          "base_uri": "https://localhost:8080/"
        },
        "id": "Z95hZ1dMHTxT",
        "outputId": "0e97d59d-b4c4-4757-ea8a-299a4b446444"
      },
      "outputs": [
        {
          "output_type": "stream",
          "name": "stdout",
          "text": [
            "Requirement already satisfied: spacy in /usr/local/lib/python3.12/dist-packages (3.8.7)\n",
            "Requirement already satisfied: fuzzywuzzy in /usr/local/lib/python3.12/dist-packages (0.18.0)\n",
            "Requirement already satisfied: python-Levenshtein in /usr/local/lib/python3.12/dist-packages (0.27.1)\n",
            "Requirement already satisfied: spacy-legacy<3.1.0,>=3.0.11 in /usr/local/lib/python3.12/dist-packages (from spacy) (3.0.12)\n",
            "Requirement already satisfied: spacy-loggers<2.0.0,>=1.0.0 in /usr/local/lib/python3.12/dist-packages (from spacy) (1.0.5)\n",
            "Requirement already satisfied: murmurhash<1.1.0,>=0.28.0 in /usr/local/lib/python3.12/dist-packages (from spacy) (1.0.13)\n",
            "Requirement already satisfied: cymem<2.1.0,>=2.0.2 in /usr/local/lib/python3.12/dist-packages (from spacy) (2.0.11)\n",
            "Requirement already satisfied: preshed<3.1.0,>=3.0.2 in /usr/local/lib/python3.12/dist-packages (from spacy) (3.0.10)\n",
            "Requirement already satisfied: thinc<8.4.0,>=8.3.4 in /usr/local/lib/python3.12/dist-packages (from spacy) (8.3.6)\n",
            "Requirement already satisfied: wasabi<1.2.0,>=0.9.1 in /usr/local/lib/python3.12/dist-packages (from spacy) (1.1.3)\n",
            "Requirement already satisfied: srsly<3.0.0,>=2.4.3 in /usr/local/lib/python3.12/dist-packages (from spacy) (2.5.1)\n",
            "Requirement already satisfied: catalogue<2.1.0,>=2.0.6 in /usr/local/lib/python3.12/dist-packages (from spacy) (2.0.10)\n",
            "Requirement already satisfied: weasel<0.5.0,>=0.1.0 in /usr/local/lib/python3.12/dist-packages (from spacy) (0.4.1)\n",
            "Requirement already satisfied: typer<1.0.0,>=0.3.0 in /usr/local/lib/python3.12/dist-packages (from spacy) (0.16.0)\n",
            "Requirement already satisfied: tqdm<5.0.0,>=4.38.0 in /usr/local/lib/python3.12/dist-packages (from spacy) (4.67.1)\n",
            "Requirement already satisfied: numpy>=1.19.0 in /usr/local/lib/python3.12/dist-packages (from spacy) (2.0.2)\n",
            "Requirement already satisfied: requests<3.0.0,>=2.13.0 in /usr/local/lib/python3.12/dist-packages (from spacy) (2.32.3)\n",
            "Requirement already satisfied: pydantic!=1.8,!=1.8.1,<3.0.0,>=1.7.4 in /usr/local/lib/python3.12/dist-packages (from spacy) (2.11.7)\n",
            "Requirement already satisfied: jinja2 in /usr/local/lib/python3.12/dist-packages (from spacy) (3.1.6)\n",
            "Requirement already satisfied: setuptools in /usr/local/lib/python3.12/dist-packages (from spacy) (75.2.0)\n",
            "Requirement already satisfied: packaging>=20.0 in /usr/local/lib/python3.12/dist-packages (from spacy) (25.0)\n",
            "Requirement already satisfied: langcodes<4.0.0,>=3.2.0 in /usr/local/lib/python3.12/dist-packages (from spacy) (3.5.0)\n",
            "Requirement already satisfied: Levenshtein==0.27.1 in /usr/local/lib/python3.12/dist-packages (from python-Levenshtein) (0.27.1)\n",
            "Requirement already satisfied: rapidfuzz<4.0.0,>=3.9.0 in /usr/local/lib/python3.12/dist-packages (from Levenshtein==0.27.1->python-Levenshtein) (3.13.0)\n",
            "Requirement already satisfied: language-data>=1.2 in /usr/local/lib/python3.12/dist-packages (from langcodes<4.0.0,>=3.2.0->spacy) (1.3.0)\n",
            "Requirement already satisfied: annotated-types>=0.6.0 in /usr/local/lib/python3.12/dist-packages (from pydantic!=1.8,!=1.8.1,<3.0.0,>=1.7.4->spacy) (0.7.0)\n",
            "Requirement already satisfied: pydantic-core==2.33.2 in /usr/local/lib/python3.12/dist-packages (from pydantic!=1.8,!=1.8.1,<3.0.0,>=1.7.4->spacy) (2.33.2)\n",
            "Requirement already satisfied: typing-extensions>=4.12.2 in /usr/local/lib/python3.12/dist-packages (from pydantic!=1.8,!=1.8.1,<3.0.0,>=1.7.4->spacy) (4.14.1)\n",
            "Requirement already satisfied: typing-inspection>=0.4.0 in /usr/local/lib/python3.12/dist-packages (from pydantic!=1.8,!=1.8.1,<3.0.0,>=1.7.4->spacy) (0.4.1)\n",
            "Requirement already satisfied: charset-normalizer<4,>=2 in /usr/local/lib/python3.12/dist-packages (from requests<3.0.0,>=2.13.0->spacy) (3.4.3)\n",
            "Requirement already satisfied: idna<4,>=2.5 in /usr/local/lib/python3.12/dist-packages (from requests<3.0.0,>=2.13.0->spacy) (3.10)\n",
            "Requirement already satisfied: urllib3<3,>=1.21.1 in /usr/local/lib/python3.12/dist-packages (from requests<3.0.0,>=2.13.0->spacy) (2.5.0)\n",
            "Requirement already satisfied: certifi>=2017.4.17 in /usr/local/lib/python3.12/dist-packages (from requests<3.0.0,>=2.13.0->spacy) (2025.8.3)\n",
            "Requirement already satisfied: blis<1.4.0,>=1.3.0 in /usr/local/lib/python3.12/dist-packages (from thinc<8.4.0,>=8.3.4->spacy) (1.3.0)\n",
            "Requirement already satisfied: confection<1.0.0,>=0.0.1 in /usr/local/lib/python3.12/dist-packages (from thinc<8.4.0,>=8.3.4->spacy) (0.1.5)\n",
            "Requirement already satisfied: click>=8.0.0 in /usr/local/lib/python3.12/dist-packages (from typer<1.0.0,>=0.3.0->spacy) (8.2.1)\n",
            "Requirement already satisfied: shellingham>=1.3.0 in /usr/local/lib/python3.12/dist-packages (from typer<1.0.0,>=0.3.0->spacy) (1.5.4)\n",
            "Requirement already satisfied: rich>=10.11.0 in /usr/local/lib/python3.12/dist-packages (from typer<1.0.0,>=0.3.0->spacy) (13.9.4)\n",
            "Requirement already satisfied: cloudpathlib<1.0.0,>=0.7.0 in /usr/local/lib/python3.12/dist-packages (from weasel<0.5.0,>=0.1.0->spacy) (0.21.1)\n",
            "Requirement already satisfied: smart-open<8.0.0,>=5.2.1 in /usr/local/lib/python3.12/dist-packages (from weasel<0.5.0,>=0.1.0->spacy) (7.3.0.post1)\n",
            "Requirement already satisfied: MarkupSafe>=2.0 in /usr/local/lib/python3.12/dist-packages (from jinja2->spacy) (3.0.2)\n",
            "Requirement already satisfied: marisa-trie>=1.1.0 in /usr/local/lib/python3.12/dist-packages (from language-data>=1.2->langcodes<4.0.0,>=3.2.0->spacy) (1.2.1)\n",
            "Requirement already satisfied: markdown-it-py>=2.2.0 in /usr/local/lib/python3.12/dist-packages (from rich>=10.11.0->typer<1.0.0,>=0.3.0->spacy) (4.0.0)\n",
            "Requirement already satisfied: pygments<3.0.0,>=2.13.0 in /usr/local/lib/python3.12/dist-packages (from rich>=10.11.0->typer<1.0.0,>=0.3.0->spacy) (2.19.2)\n",
            "Requirement already satisfied: wrapt in /usr/local/lib/python3.12/dist-packages (from smart-open<8.0.0,>=5.2.1->weasel<0.5.0,>=0.1.0->spacy) (1.17.3)\n",
            "Requirement already satisfied: mdurl~=0.1 in /usr/local/lib/python3.12/dist-packages (from markdown-it-py>=2.2.0->rich>=10.11.0->typer<1.0.0,>=0.3.0->spacy) (0.1.2)\n",
            "Collecting fr-core-news-sm==3.8.0\n",
            "  Downloading https://github.com/explosion/spacy-models/releases/download/fr_core_news_sm-3.8.0/fr_core_news_sm-3.8.0-py3-none-any.whl (16.3 MB)\n",
            "\u001b[2K     \u001b[90m━━━━━━━━━━━━━━━━━━━━━━━━━━━━━━━━━━━━━━━━\u001b[0m \u001b[32m16.3/16.3 MB\u001b[0m \u001b[31m62.2 MB/s\u001b[0m eta \u001b[36m0:00:00\u001b[0m\n",
            "\u001b[?25h\u001b[38;5;2m✔ Download and installation successful\u001b[0m\n",
            "You can now load the package via spacy.load('fr_core_news_sm')\n",
            "\u001b[38;5;3m⚠ Restart to reload dependencies\u001b[0m\n",
            "If you are in a Jupyter or Colab notebook, you may need to restart Python in\n",
            "order to load all the package's dependencies. You can do this by selecting the\n",
            "'Restart kernel' or 'Restart runtime' option.\n"
          ]
        }
      ],
      "source": [
        "# Installation des dépendances supplémentaires\n",
        "!pip install spacy fuzzywuzzy python-Levenshtein\n",
        "!python -m spacy download fr_core_news_sm"
      ]
    },
    {
      "cell_type": "code",
      "source": [
        "# Import des bibliothèques\n",
        "import spacy\n",
        "from fuzzywuzzy import fuzz, process\n",
        "import re\n",
        "import json\n",
        "from transformers import pipeline"
      ],
      "metadata": {
        "id": "SbeSvnj-H571"
      },
      "execution_count": 2,
      "outputs": []
    },
    {
      "cell_type": "code",
      "source": [
        "# Chargement des modèles\n",
        "print(\"Chargement des modèles...\")\n",
        "nlp_spacy = spacy.load(\"fr_core_news_sm\")\n",
        "nlp_transformers = pipeline(\"token-classification\", model=\"dslim/bert-base-NER\", aggregation_strategy=\"simple\")"
      ],
      "metadata": {
        "colab": {
          "base_uri": "https://localhost:8080/"
        },
        "id": "rZBfU7g-H93_",
        "outputId": "23e00081-a891-45f7-cf0e-a11769bd9ce0"
      },
      "execution_count": 3,
      "outputs": [
        {
          "output_type": "stream",
          "name": "stdout",
          "text": [
            "Chargement des modèles...\n"
          ]
        },
        {
          "output_type": "stream",
          "name": "stderr",
          "text": [
            "/usr/local/lib/python3.12/dist-packages/huggingface_hub/utils/_auth.py:94: UserWarning: \n",
            "The secret `HF_TOKEN` does not exist in your Colab secrets.\n",
            "To authenticate with the Hugging Face Hub, create a token in your settings tab (https://huggingface.co/settings/tokens), set it as secret in your Google Colab and restart your session.\n",
            "You will be able to reuse this secret in all of your notebooks.\n",
            "Please note that authentication is recommended but still optional to access public models or datasets.\n",
            "  warnings.warn(\n",
            "Some weights of the model checkpoint at dslim/bert-base-NER were not used when initializing BertForTokenClassification: ['bert.pooler.dense.bias', 'bert.pooler.dense.weight']\n",
            "- This IS expected if you are initializing BertForTokenClassification from the checkpoint of a model trained on another task or with another architecture (e.g. initializing a BertForSequenceClassification model from a BertForPreTraining model).\n",
            "- This IS NOT expected if you are initializing BertForTokenClassification from the checkpoint of a model that you expect to be exactly identical (initializing a BertForSequenceClassification model from a BertForSequenceClassification model).\n",
            "Device set to use cpu\n"
          ]
        }
      ]
    },
    {
      "cell_type": "code",
      "source": [
        "# Définition des motifs pour le génie civil\n",
        "construction_terms = {\n",
        "    \"materials\": [\"béton\", \"acier\", \"bois\", \"parpaing\", \"brique\", \"verre\", \"métal\", \"composite\"],\n",
        "    \"structure_types\": [\"maison\", \"immeuble\", \"bureau\", \"entrepôt\", \"usine\", \"commerce\", \"pavillon\"],\n",
        "    \"foundation_types\": [\"semelle\", \"pieux\", \"radier\", \"dalle\", \"sur pilotis\"],\n",
        "    \"wall_types\": [\"porteur\", \"cloison\", \"rideau\", \"doublage\", \"isolation\"]\n",
        "}"
      ],
      "metadata": {
        "id": "n4UWYmCUIERf"
      },
      "execution_count": 4,
      "outputs": []
    },
    {
      "cell_type": "code",
      "source": [
        "\n",
        "# Fonction d'extraction améliorée\n",
        "def extract_construction_params(description):\n",
        "    doc = nlp_spacy(description)\n",
        "    transformers_results = nlp_transformers(description)\n",
        "\n",
        "    params = {\n",
        "        \"type_batiment\": None,\n",
        "        \"surface\": None,\n",
        "        \"hauteur\": None,\n",
        "        \"etages\": None,\n",
        "        \"materiaux\": [],\n",
        "        \"fondations\": None,\n",
        "        \"murs\": [],\n",
        "        \"ouvertures\": [],\n",
        "        \"contraintes\": []\n",
        "    }\n",
        "\n",
        "    # Extraction du type de bâtiment\n",
        "    for token in doc:\n",
        "        if token.text.lower() in construction_terms[\"structure_types\"]:\n",
        "            params[\"type_batiment\"] = token.text.lower()\n",
        "\n",
        "    # Extraction des mesures avec expressions régulières\n",
        "    # Surface\n",
        "    surface_matches = re.findall(r'(\\d+)\\s*m²|\\s(\\d+)\\s*mètres?\\s*carrés?', description, re.IGNORECASE)\n",
        "    if surface_matches:\n",
        "        for match in surface_matches:\n",
        "            for value in match:\n",
        "                if value:\n",
        "                    params[\"surface\"] = int(value)\n",
        "                    break\n",
        "            if params[\"surface\"]:\n",
        "                break\n",
        "\n",
        "    # Nombre d'étages\n",
        "    etages_matches = re.findall(r'(\\d+)\\s*étages?|(\\d+)\\s*niveaux?', description, re.IGNORECASE)\n",
        "    if etages_matches:\n",
        "        for match in etages_matches:\n",
        "            for value in match:\n",
        "                if value:\n",
        "                    params[\"etages\"] = int(value)\n",
        "                    break\n",
        "            if params[\"etages\"]:\n",
        "                break\n",
        "\n",
        "    # Matériaux\n",
        "    for material in construction_terms[\"materials\"]:\n",
        "        if material in description.lower():\n",
        "            params[\"materiaux\"].append(material)\n",
        "\n",
        "    # Fondations\n",
        "    for foundation in construction_terms[\"foundation_types\"]:\n",
        "        if foundation in description.lower():\n",
        "            params[\"fondations\"] = foundation\n",
        "\n",
        "    return params"
      ],
      "metadata": {
        "id": "pVMAKqkgIK3j"
      },
      "execution_count": 5,
      "outputs": []
    },
    {
      "cell_type": "code",
      "source": [
        "\n",
        "# Test avec différentes descriptions\n",
        "test_descriptions = [\n",
        "    \"Maison individuelle de 120m² avec 2 étages, murs en béton de 20cm, fondations semelles continues\",\n",
        "    \"Immeuble de bureaux de 5 étages, 800m² par étage, structure acier, façade rideau en verre\",\n",
        "    \"Entrepôt industriel de 2000m², plain-pied, hauteur sous plafond 8m, structure métallique\"\n",
        "]\n",
        "\n",
        "for desc in test_descriptions:\n",
        "    result = extract_construction_params(desc)\n",
        "    print(f\"Description: {desc}\")\n",
        "    print(f\"Paramètres extraits: {json.dumps(result, indent=2, ensure_ascii=False)}\")\n",
        "    print(\"-\" * 50)"
      ],
      "metadata": {
        "colab": {
          "base_uri": "https://localhost:8080/"
        },
        "id": "HnFOQ6mcIUi2",
        "outputId": "a5b5c4c3-3f9d-4ba7-b18d-d158e6e585c7"
      },
      "execution_count": 6,
      "outputs": [
        {
          "output_type": "stream",
          "name": "stdout",
          "text": [
            "Description: Maison individuelle de 120m² avec 2 étages, murs en béton de 20cm, fondations semelles continues\n",
            "Paramètres extraits: {\n",
            "  \"type_batiment\": \"maison\",\n",
            "  \"surface\": 120,\n",
            "  \"hauteur\": null,\n",
            "  \"etages\": 2,\n",
            "  \"materiaux\": [\n",
            "    \"béton\"\n",
            "  ],\n",
            "  \"fondations\": \"semelle\",\n",
            "  \"murs\": [],\n",
            "  \"ouvertures\": [],\n",
            "  \"contraintes\": []\n",
            "}\n",
            "--------------------------------------------------\n",
            "Description: Immeuble de bureaux de 5 étages, 800m² par étage, structure acier, façade rideau en verre\n",
            "Paramètres extraits: {\n",
            "  \"type_batiment\": \"immeuble\",\n",
            "  \"surface\": 800,\n",
            "  \"hauteur\": null,\n",
            "  \"etages\": 5,\n",
            "  \"materiaux\": [\n",
            "    \"acier\",\n",
            "    \"verre\"\n",
            "  ],\n",
            "  \"fondations\": null,\n",
            "  \"murs\": [],\n",
            "  \"ouvertures\": [],\n",
            "  \"contraintes\": []\n",
            "}\n",
            "--------------------------------------------------\n",
            "Description: Entrepôt industriel de 2000m², plain-pied, hauteur sous plafond 8m, structure métallique\n",
            "Paramètres extraits: {\n",
            "  \"type_batiment\": \"entrepôt\",\n",
            "  \"surface\": 2000,\n",
            "  \"hauteur\": null,\n",
            "  \"etages\": null,\n",
            "  \"materiaux\": [\n",
            "    \"métal\"\n",
            "  ],\n",
            "  \"fondations\": null,\n",
            "  \"murs\": [],\n",
            "  \"ouvertures\": [],\n",
            "  \"contraintes\": []\n",
            "}\n",
            "--------------------------------------------------\n"
          ]
        }
      ]
    }
  ]
}